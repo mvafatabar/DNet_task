{
 "cells": [
  {
   "cell_type": "code",
   "execution_count": 6,
   "metadata": {
    "collapsed": true,
    "pycharm": {
     "is_executing": false
    }
   },
   "outputs": [
    {
     "name": "stdout",
     "output_type": "stream",
     "text": [
      "0.25.3\n"
     ]
    }
   ],
   "source": [
    "\"\"\"\n",
    "Implementation in ipynb\n",
    "\"\"\"\n",
    "\n",
    "import os\n",
    "import pandas as pd\n",
    "\n",
    "import warnings\n",
    "warnings.filterwarnings(\"ignore\")\n",
    "\n",
    "FILE_PATH = '../resources'\n"
   ]
  },
  {
   "cell_type": "code",
   "execution_count": 2,
   "metadata": {
    "collapsed": false,
    "pycharm": {
     "name": "#%%\n",
     "is_executing": false
    }
   },
   "outputs": [],
   "source": [
    "ctg_file = os.path.join(FILE_PATH, \"Categorisation.csv\")\n",
    "lst_file = os.path.join(FILE_PATH, \"Listings.csv\")\n",
    "opioids_df = pd.DataFrame(columns=[\"date\", \"Opioids\"])\n",
    "#  read Listings.csv into a dataframe\n",
    "lst_df = pd.read_csv(lst_file, sep=',')\n",
    "#  convert the date column from object to datetime format\n",
    "lst_df['date'] = pd.to_datetime(lst_df['date'], format='%Y/%m/%d')\n",
    "\n",
    "#  read Categorisation.csv into a dataframe\n",
    "ctg_df = pd.read_csv(ctg_file, sep=',')\n"
   ]
  },
  {
   "cell_type": "code",
   "execution_count": 3,
   "metadata": {
    "collapsed": false,
    "pycharm": {
     "name": "#%%\n",
     "is_executing": false
    }
   },
   "outputs": [
    {
     "name": "stdout",
     "output_type": "stream",
     "text": [
      "===========\n",
      "Question 1:\n",
      "\n",
      "Listings date BEFORE update: (showing head only)\n",
      "0   2020-04-09\n",
      "1   2020-03-19\n",
      "2   2020-04-09\n",
      "3   2020-04-02\n",
      "4   2020-04-16\n",
      "Name: date, dtype: datetime64[ns]\n",
      "\n",
      "Listings date AFTER update: (showing head only)\n",
      "0   2020-03-09\n",
      "1   2020-02-17\n",
      "2   2020-03-09\n",
      "3   2020-03-02\n",
      "4   2020-03-16\n",
      "Name: date, dtype: datetime64[ns]\n"
     ]
    },
    {
     "name": "stderr",
     "output_type": "stream",
     "text": [
      "c:\\users\\mosa004\\envs\\sparc-venv36\\lib\\site-packages\\ipykernel_launcher.py:7: FutureWarning: M and Y units are deprecated and will be removed in a future version.\n",
      "  import sys\n"
     ]
    }
   ],
   "source": [
    "print(\"===========\")\n",
    "print(\"Question 1:\")\n",
    "print(\"\")\n",
    "print(\"Listings date BEFORE update: (showing head only)\")\n",
    "print(lst_df[\"date\"].head())\n",
    "\n",
    "lst_df[\"date\"] = lst_df[\"date\"].apply(lambda x: x - pd.Timedelta(1, unit='M'))\n",
    "lst_df[\"date\"] = lst_df[\"date\"].dt.strftime('%d/%m/%Y')\n",
    "lst_df['date'] = pd.to_datetime(lst_df['date'], format='%d/%m/%Y')\n",
    "\n",
    "print(\"\")\n",
    "print(\"Listings date AFTER update: (showing head only)\")\n",
    "print(lst_df[\"date\"].head())\n"
   ]
  },
  {
   "cell_type": "code",
   "execution_count": 4,
   "metadata": {
    "collapsed": false,
    "pycharm": {
     "name": "#%%\n",
     "is_executing": false
    }
   },
   "outputs": [
    {
     "name": "stdout",
     "output_type": "stream",
     "text": [
      "===========\n",
      "Question 2:\n",
      "Listings with Broader class added: (showing head only)\n",
      "   Unnamed: 0                                            Listing       date  \\\n",
      "0           0  Best extract DMT CRYSTAL POWDER FOR SALE 10g $250 2020-03-09   \n",
      "1           1                                        SUBUTEX 8mg 2020-02-17   \n",
      "2           2       500 GRAM SPEEDPASTE AMPHETAMINE HIGH QUALITY 2020-03-09   \n",
      "3           3                Lorazepam Tavor 1,0mg expidet 10pcs 2020-03-02   \n",
      "4           4                   Oxycodone caps IR 10 x 10mg Teva 2020-03-16   \n",
      "\n",
      "                               Level 1                          Broader class  \n",
      "0                                  DMT                                   DMT   \n",
      "1                        Buprenorphine                                Opioids  \n",
      "2  Illicit Amphetamine/Methamphetamine  Amphetamine/methamphetamine (illicit)  \n",
      "3                            Lorazepam                        Benzodiazepines  \n",
      "4                            Oxycodone                                Opioids  \n"
     ]
    },
    {
     "name": "stderr",
     "output_type": "stream",
     "text": [
      "c:\\users\\mosa004\\envs\\sparc-venv36\\lib\\site-packages\\pandas\\core\\indexing.py:205: SettingWithCopyWarning: \n",
      "A value is trying to be set on a copy of a slice from a DataFrame\n",
      "\n",
      "See the caveats in the documentation: http://pandas.pydata.org/pandas-docs/stable/user_guide/indexing.html#returning-a-view-versus-a-copy\n",
      "  self._setitem_with_indexer(indexer, value)\n"
     ]
    }
   ],
   "source": [
    "#  creating the empty column first\n",
    "lst_df[\"Broader class\"] = \"\"\n",
    "\n",
    "#  we can iterate over the Listings' Level 1 column and pass the matched value from 'Broadest class' in\n",
    "#  Categorisation dataframe to our new column\n",
    "for index, item in enumerate(lst_df[\"Level 1\"]):\n",
    "    broader_class = ctg_df.loc[ctg_df['Level 1'] == item][\"Broadest class\"]\n",
    "    lst_df[\"Broader class\"].loc[index] = broader_class.values[0]\n",
    "\n",
    "print(\"===========\")\n",
    "print(\"Question 2:\")\n",
    "print(\"Listings with Broader class added: (showing head only)\")\n",
    "print(lst_df.head())"
   ]
  },
  {
   "cell_type": "code",
   "execution_count": null,
   "metadata": {
    "collapsed": false,
    "pycharm": {
     "name": "#%%\n",
     "is_executing": false
    }
   },
   "outputs": [
    {
     "name": "stdout",
     "output_type": "stream",
     "text": [
      "===========\n",
      "Question 3:\n",
      "Opioids dataframe: (showing head only)\n",
      "        date  Opioids\n",
      "0 2020-03-09        1\n",
      "1 2020-02-17        2\n",
      "2 2020-03-02        0\n",
      "3 2020-03-16        1\n",
      "4 2020-02-24        1\n",
      "\n",
      "opioids.csv is saved in the resources directory.\n"
     ]
    }
   ],
   "source": [
    "#  we need to copy the unique dates from the Listing dataframe to our new dataframe\n",
    "opioids_df[\"date\"] = lst_df[\"date\"].unique()\n",
    "#  then, we need to find the number of opioids classes for every unique dates. This can be achieved by\n",
    "#  simply using groupby() and count() methods id pandas.DataFrame\n",
    "opioids_count = lst_df[lst_df[\"Broader class\"] == 'Opioids'].groupby(['date'])['date'].count()\n",
    "\n",
    "#  we now have to loop through the unique dates and check how many opioids there are in the corresponding field\n",
    "#  save in the opioids_count. That value will be assigned to the respective index. Otherwise a zero value will\n",
    "#  be assigned\n",
    "for index, item in enumerate(opioids_df[\"date\"]):\n",
    "    if item in list(opioids_count.keys()):\n",
    "        count = opioids_count[opioids_count.keys() == item].values[0]\n",
    "        opioids_df[\"Opioids\"].loc[index] = count\n",
    "    else:\n",
    "        opioids_df[\"Opioids\"].loc[index] = 0\n",
    "\n",
    "print(\"===========\")\n",
    "print(\"Question 3:\")\n",
    "print(\"Opioids dataframe: (showing head only)\")\n",
    "print(opioids_df.head())\n",
    "\n",
    "print(\"\")\n",
    "opioids_df.to_csv(os.path.join(FILE_PATH, \"opioids.csv\"), sep=',')\n",
    "print(\"opioids.csv is saved in the resources directory.\")\n",
    "\n"
   ]
  }
 ],
 "metadata": {
  "kernelspec": {
   "name": "python3",
   "language": "python",
   "display_name": "Python 3"
  },
  "language_info": {
   "codemirror_mode": {
    "name": "ipython",
    "version": 2
   },
   "file_extension": ".py",
   "mimetype": "text/x-python",
   "name": "python",
   "nbconvert_exporter": "python",
   "pygments_lexer": "ipython2",
   "version": "2.7.6"
  },
  "pycharm": {
   "stem_cell": {
    "cell_type": "raw",
    "source": [],
    "metadata": {
     "collapsed": false
    }
   }
  }
 },
 "nbformat": 4,
 "nbformat_minor": 0
}
